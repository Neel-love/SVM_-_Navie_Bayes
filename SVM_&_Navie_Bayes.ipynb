{
  "nbformat": 4,
  "nbformat_minor": 0,
  "metadata": {
    "colab": {
      "provenance": []
    },
    "kernelspec": {
      "name": "python3",
      "display_name": "Python 3"
    },
    "language_info": {
      "name": "python"
    }
  },
  "cells": [
    {
      "cell_type": "markdown",
      "source": [
        "#Theory Questions"
      ],
      "metadata": {
        "id": "xevqt8Rt1PPY"
      }
    },
    {
      "cell_type": "markdown",
      "source": [
        "1.\tWhat is a Support Vector Machine (SVM)?\n",
        "\n",
        "Support Vector Machine (SVM) is a supervised learning algorithm used for classification and regression tasks. It finds the optimal hyperplane that best separates data points belonging to different classes by maximizing the margin between them.\n",
        "\n",
        "•\tIn classification, SVM finds a decision boundary that best separates different classes.\n",
        "\n",
        "•\tIn regression (SVR), it tries to fit a model within a specified error margin.\n",
        "\n"
      ],
      "metadata": {
        "id": "FwlqI96149Bt"
      }
    },
    {
      "cell_type": "markdown",
      "source": [
        "2.\tWhat is the difference between Hard Margin and Soft Margin SVM?\n",
        "\n",
        "•\tHard Margin SVM: Used when data is perfectly separable. It aims to find a hyperplane that completely separates the classes without allowing any misclassification. This is less flexible and sensitive to outliers.\n",
        "\n",
        "•\tSoft Margin SVM: Allows some misclassification by introducing a slack variable. It provides better generalization on real-world datasets where data is not perfectly separable.\n"
      ],
      "metadata": {
        "id": "RhOhrULN5MKy"
      }
    },
    {
      "cell_type": "markdown",
      "source": [
        "\n",
        "\n",
        "3.\tWhat is the mathematical intuition behind SVM?\n",
        "SVM aims to find a hyperplane w·x + b = 0 that maximizes the margin (distance) between two classes. The margin is defined as:\n",
        "\n",
        "  2 / ∣∣w∣∣\n",
        "\n",
        "SVM optimizes the following function: min * (1 / 2) *( ∣∣w∣∣^2 )\n",
        "\n",
        "subject to:\n",
        "yi ( w⋅xi + b )≥1\n",
        "\n",
        "For soft margin SVM, we introduce slack variables (ξi) and a penalty parameter (C): Min * (1/2) * (∣∣w∣∣^2) + C∑ξi\n",
        "\n",
        "This allows some points to be misclassified while maintaining a balance between margin maximization and classification accuracy.\n"
      ],
      "metadata": {
        "id": "ONErmpKj5cpx"
      }
    },
    {
      "cell_type": "markdown",
      "source": [
        "4.\tWhat is the role of Lagrange Multipliers in SVM?\n",
        "\n",
        "Lagrange Multipliers (αi) help transform the constrained optimization problem into a dual form, which is easier to solve:\n",
        "Max ∑αi− (1/2) ∑αi `*αj*yi*yj*K(xi,xj)`\n",
        "\n",
        "subject to:\n",
        "`∑αi * yi = 0\t,0≤αi≤C`\n",
        "\n",
        "This allows solving the SVM using quadratic programming.\n"
      ],
      "metadata": {
        "id": "xKysLH6e5xTl"
      }
    },
    {
      "cell_type": "markdown",
      "source": [
        "5.\tWhat are Support Vectors in SVM?\n",
        "\n",
        "Support Vectors are the data points that lie closest to the decision boundary.\n",
        "\n",
        "These points define the margin and they are the most influential in determining the position of the hyperplane.\n"
      ],
      "metadata": {
        "id": "0FShTWCM6NF9"
      }
    },
    {
      "cell_type": "markdown",
      "source": [
        "6.\tWhat is a Support Vector Classifier (SVC)?\n",
        "\n",
        "Support Vector Classifier (SVC) is the classification version of SVM that finds the optimal hyperplane to separate different classes among nearly placed Data points of different classes.\n"
      ],
      "metadata": {
        "id": "vG7N-wEr6b0x"
      }
    },
    {
      "cell_type": "markdown",
      "source": [
        "7.\tWhat is a Support Vector Regressor (SVR)?\n",
        "\n",
        "Support Vector Regressor (SVR) is used for regression tasks.\n",
        "\n",
        "In which instead of finding a separating hyperplane,  the SVR algorithm finds a function that fits the data within a certain error margin (epsilon- insensitive tube).\n"
      ],
      "metadata": {
        "id": "sl84EtDa6tyy"
      }
    },
    {
      "cell_type": "markdown",
      "source": [
        "8.\tWhat is the Kernel Trick in SVM?\n",
        "\n",
        "The Kernel Trick allows SVM to work in a higher-dimensional space without explicitly transforming data.\n",
        "\n",
        "It computes the dot product in this higher-dimensional space using a kernel function,which making it computationally efficient to be separable.\n",
        "Common kernels to be used in this trick are as follow:\n",
        "\n",
        "•\tLinear Kernel: K(x,y) = `x * y`\n",
        "\n",
        "•\tPolynomial Kernel: K(x,y) =` (x⋅y+c) ^ d`\n",
        "\n",
        "•\tRBF (Gaussian) Kernel: K(x,y) = `e ^(−γ∣∣x−y∣∣ ^2)`\n"
      ],
      "metadata": {
        "id": "K5QarPIG7B37"
      }
    },
    {
      "cell_type": "markdown",
      "source": [
        "9.\tCompare Linear Kernel, Polynomial Kernel, and RBF Kernel.\n",
        "- Here is a cocise table which consist of comaparison among given kernels:\n",
        "### 🧮 Summary Comparison\n",
        "\n",
        "| Feature                | Linear Kernel | Polynomial Kernel         | RBF Kernel                  |\n",
        "| ---------------------- | ------------- | ------------------------- | --------------------------- |\n",
        "| Equation               | $x^\\top y$    | $(\\gamma x^\\top y + r)^d$ | $\\exp(-\\gamma \\|x - y\\|^2)$ |\n",
        "| Captures Non-linearity | ❌ No          | ✅ Yes                     | ✅ Yes                       |\n",
        "| Flexibility            | Low           | Medium                    | High                        |\n",
        "| Hyperparameters        | None          | $\\gamma, r, d$            | $\\gamma$                    |\n",
        "| Overfitting Risk       | Low           | Medium to High            | Medium                      |\n",
        "| Computational Cost     | Low           | Medium                    | High                        |\n",
        "\n",
        "---\n"
      ],
      "metadata": {
        "id": "957y-zLz7lMH"
      }
    },
    {
      "cell_type": "markdown",
      "source": [
        "\n",
        "10.\tWhat is the effect of the C parameter in SVM?\n",
        "\n",
        "The C parameter controls the trade-off between maximizing the margin and minimizing misclassification:\n",
        "\n",
        "•\tHigh C → Less margin, prioritizes correct classification but risks overfitting.\n",
        "\n",
        "•\tLow C → Larger margin, allows more misclassification but improves generalization.\n"
      ],
      "metadata": {
        "id": "Se4Q0u2B-FSC"
      }
    },
    {
      "cell_type": "markdown",
      "source": [
        "\n",
        "11.\tWhat is the role of the Gamma parameter in RBF Kernel SVM?\n",
        "\n",
        "Gamma (γ) defines how far of a training example reaches:\n",
        "\n",
        "•\tHigh γ → More complexity, each point influences only close neighbors (risk of overfitting).\n",
        "\n",
        "•\tLow γ → Simpler model with a larger influence range.\n",
        "\n"
      ],
      "metadata": {
        "id": "5Kv0Gcbh-Sup"
      }
    },
    {
      "cell_type": "markdown",
      "source": [
        "\n",
        "12.\tWhat is the Naïve Bayes classifier, and why is it called \"Naive\"?\n",
        "\n",
        "Naïve Bayes is a probabilistic classifier based on Bayes’ Theorem, assuming feature independence (is why it’s called “Naive”).\n"
      ],
      "metadata": {
        "id": "PUy6TR_5fu44"
      }
    },
    {
      "cell_type": "markdown",
      "source": [
        "\n",
        "13.\tWhat is Bayes’ Theorem?\n",
        "\n",
        "- This is corresponding formula for that theorem:\n",
        "P(A/B) = P(B/A) * P(A) / P(B)\n",
        "\n",
        "- It describes the probability of an event A occurring given that B has already occurred.\n",
        "- Bayes theorem generally used to find probability of any event in respect to another one event which is already occured.\n",
        "\n",
        "\n",
        "\n"
      ],
      "metadata": {
        "id": "VuJFtFpugVep"
      }
    },
    {
      "cell_type": "markdown",
      "source": [
        "14.\tExplain Gaussian, Multinomial, and Bernoulli Naïve Bayes.\n",
        "\n",
        "•\tGaussian Naïve Bayes: Assumes features follow a normal distribution (continuous data)& used to solve .\n",
        "\n",
        "•\tMultinomial Naïve Bayes: Used for discrete count data (e.g., text classification).\n",
        "\n",
        "•\tBernoulli Naïve Bayes: Works with binary features (e.g., presence/absence of words).\n"
      ],
      "metadata": {
        "id": "588x1XbgiN2J"
      }
    },
    {
      "cell_type": "markdown",
      "source": [
        "15.\tWhen should you use Gaussian Naïve Bayes over other variants?\n",
        "\n",
        "- Use Gaussian Naïve Bayes when features are continuous and normally distributed.\n",
        "- Use cases(e.g., sensor readings, medical data).\n",
        "\n"
      ],
      "metadata": {
        "id": "0U2H6DkUi5Xe"
      }
    },
    {
      "cell_type": "markdown",
      "source": [
        "16.\tWhat are the key assumptions made by Naïve Bayes?\n",
        "- Feature Independence: Each feature contributes independently to classification means every feature is independant of any other features are there.\n",
        "- Equal Importance: All features contribute equally to the final decision.\n"
      ],
      "metadata": {
        "id": "BmLHo1LjjdpE"
      }
    },
    {
      "cell_type": "markdown",
      "source": [
        "17.\tWhat are the advantages and disadvantages of Naïve Bayes?\\\n",
        "\n",
        "Advantages:\n",
        "\n",
        "  •\tWorks well with small sized data\n",
        "\n",
        "  •\tFast and robust\n",
        "\n",
        "  •\tPerforms well in text classification\n",
        "\n",
        "Disadvantages:\n",
        "\n",
        "  •\tAssumption of feature independence is often not real.\n",
        "  \n",
        "  •\tlack of performance on complex datasets.\n"
      ],
      "metadata": {
        "id": "AubnROKWj6C-"
      }
    },
    {
      "cell_type": "markdown",
      "source": [
        "18.\tWhy is Naïve Bayes a good choice for text classification?\n",
        "\n",
        "- This is are some prominent features of it which makes is best for text classification:\n",
        "\n",
        "  •\tWorks well with high-dimensional data.\n",
        "\n",
        "  •\tHandles large feature spaces efficiently\n",
        "\n",
        "  •\tRobust to irrelevant features.\n"
      ],
      "metadata": {
        "id": "wHkJ4opQkhzT"
      }
    },
    {
      "cell_type": "markdown",
      "source": [
        "19.\tCompare SVM and Naïve Bayes for classification tasks.\n",
        "\n",
        "#🌟 Core Assumptions\n",
        "- **Naïve Bayes** assumes feature independence and models the probability of each class using Bayes' theorem. It’s generative and relies on prior and likelihood.\n",
        "- **SVM**, on the other hand, is a discriminative model that focuses on finding the optimal hyperplane that separates classes with maximum margin.\n",
        "\n",
        "\n",
        "### Robustness and Performance\n",
        "| Feature              | Naïve Bayes                          | SVM                                         |\n",
        "|----------------------|--------------------------------------|----------------------------------------------|\n",
        "| Accuracy (ideal data) | Moderate                            | High                                         |\n",
        "| Outlier sensitivity   | Low (robust)                        | High                                         |\n",
        "| Handles non-linear    | No (basic)                          | Yes (with kernels)                           |\n",
        "| Training speed        | Fast                                | Slower, especially with large datasets       |\n",
        "| Assumes feature independence | Yes                        | No                                           |\n",
        "\n",
        "For example, in spam detection:\n",
        "- Naive Bayes is preferred for its simplicity and decent performance on text features.\n",
        "- SVM may be chosen for its higher precision when misclassification costs are high.\n",
        "\n",
        "\n",
        "\n"
      ],
      "metadata": {
        "id": "tGjd3QbdlB25"
      }
    },
    {
      "cell_type": "markdown",
      "source": [
        "20.\tHow does Laplace Smoothing help in Naïve Bayes?\n",
        "\n",
        "Laplace Smoothing prevents zero probabilities by adding a small constant to all frequency counts.\n",
        "\n",
        "P(w∣C) = (count(w,C)+1) / (count(C)+∣V∣)\n",
        "\n",
        " where ∣V∣ is the vocabulary size.\n"
      ],
      "metadata": {
        "id": "UIFmiSGwnFe4"
      }
    },
    {
      "cell_type": "code",
      "source": [
        "#Practical Questions"
      ],
      "metadata": {
        "id": "SRApPpmVs56U"
      },
      "execution_count": null,
      "outputs": []
    },
    {
      "cell_type": "code",
      "source": [
        "#21. Write a Python program to train an SVM Classifier on the Iris dataset and evaluate accuracy.\n",
        "\n",
        "from sklearn import datasets\n",
        "from sklearn.model_selection import train_test_split\n",
        "from  sklearn.svm  import  SVC\n",
        "from  sklearn.metrics  import  accuracy_score\n",
        "# Load the Iris dataset\n",
        "iris = datasets.load_iris()\n",
        "X, y = iris.data, iris.target\n",
        "# Split into train and test sets\n",
        "X_train, X_test, y_train, y_test = train_test_split(X, y, test_size=0.2,random_state=42)\n",
        "# Train SVM classifier\n",
        "svm_model = SVC(kernel='linear')\n",
        "svm_model.fit(X_train, y_train)\n",
        "# Make predictions\n",
        "y_pred = svm_model.predict(X_test)\n",
        "# Evaluate accuracy\n",
        "accuracy = accuracy_score(y_test, y_pred)\n",
        "print(f\"Accuracy: {accuracy:.2f}\")\n"
      ],
      "metadata": {
        "colab": {
          "base_uri": "https://localhost:8080/"
        },
        "id": "xaUMpWzqHTYe",
        "outputId": "344fcef3-0c28-4da5-d58e-756b1a9f62ff"
      },
      "execution_count": null,
      "outputs": [
        {
          "output_type": "stream",
          "name": "stdout",
          "text": [
            "Accuracy: 1.00\n"
          ]
        }
      ]
    },
    {
      "cell_type": "code",
      "source": [
        "#22.Write a Python program to train two SVM classifiers with Linear and RBF kernels on the Wine dataset, then compare thier accuracies.\n",
        "from sklearn.datasets import load_wine\n",
        "from sklearn.metrics import classification_report\n",
        "# Load the Wine dataset\n",
        "wine = load_wine()\n",
        "X, y = wine.data, wine.target\n",
        "X_train, X_test, y_train, y_test = train_test_split(X, y, test_size=0.2,random_state=42)\n",
        "#  Train  Linear  SVM\n",
        "linear_svm = SVC(kernel='linear')\n",
        "linear_svm.fit(X_train, y_train)\n",
        "linear_pred = linear_svm.predict(X_test)\n",
        "# Train RBF SVM\n",
        "rbf_svm = SVC(kernel='rbf')\n",
        "rbf_svm.fit(X_train, y_train)\n",
        "rbf_pred = rbf_svm.predict(X_test)\n",
        "# Print results\n",
        "print(\"Linear SVM:\\n\", classification_report(y_test, linear_pred))\n",
        "print(\"RBF SVM:\\n\", classification_report(y_test, rbf_pred))\n"
      ],
      "metadata": {
        "id": "AOq6gN9iHs4c"
      },
      "execution_count": null,
      "outputs": []
    },
    {
      "cell_type": "code",
      "source": [
        "#23.Write a Python program to train an SVM Regressor (SVR) on a housing dataset and evaluate it using Mean Squared error.\n",
        "from sklearn.svm import SVR\n",
        "from sklearn.metrics import mean_squared_error\n",
        "from sklearn.preprocessing import StandardScaler\n",
        "import numpy as np\n",
        "# Load California housing dataset\n",
        "housing  =  datasets.fetch_california_housing()\n",
        "X, y = housing.data, housing.target\n",
        "# Standardize the data\n",
        "scaler = StandardScaler()\n",
        "X = scaler.fit_transform(X)\n",
        "# Split the dataset\n",
        "X_train, X_test, y_train, y_test = train_test_split(X, y, test_size=0.2,random_state=42)\n",
        "# Train SVR model\n",
        "svr_model = SVR(kernel='rbf')\n",
        "svr_model.fit(X_train,  y_train)\n",
        "# Predict and evaluate\n",
        "y_pred = svr_model.predict(X_test)\n",
        "mse = mean_squared_error(y_test, y_pred)\n",
        "print(f\"Mean Squared Error: {mse:.2f}\")\n",
        "\n"
      ],
      "metadata": {
        "id": "3smaApIkIMSD"
      },
      "execution_count": null,
      "outputs": []
    },
    {
      "cell_type": "code",
      "source": [
        "#24.Write a Python program to train an SVM Classifier with a Polynomial Kernel and visualize the decision boundry."
      ],
      "metadata": {
        "id": "AC0Q3M0mIqHc"
      },
      "execution_count": null,
      "outputs": []
    },
    {
      "cell_type": "code",
      "metadata": {
        "colab": {
          "base_uri": "https://localhost:8080/",
          "height": 472
        },
        "id": "37f874db",
        "outputId": "bb4a271d-c0af-4097-ac3f-cafbe5039ef3"
      },
      "source": [
        "import matplotlib.pyplot as plt\n",
        "from sklearn.datasets import make_blobs\n",
        "from sklearn.svm import SVC\n",
        "import numpy as np\n",
        "\n",
        "# Generate synthetic data\n",
        "X, y = make_blobs(n_samples=100, centers=2, random_state=42)\n",
        "\n",
        "# Train SVM with polynomial kernel\n",
        "poly_svm = SVC(kernel='poly', degree=3, C=1.0)\n",
        "poly_svm.fit(X, y)\n",
        "\n",
        "# Visualize decision boundary\n",
        "x_min, x_max = X[:, 0].min() - 1, X[:, 0].max() + 1\n",
        "y_min, y_max = X[:, 1].min() - 1, X[:, 1].max() + 1\n",
        "xx, yy = np.meshgrid(np.arange(x_min, x_max, 0.1),\n",
        "                     np.arange(y_min, y_max, 0.1))\n",
        "\n",
        "Z = poly_svm.predict(np.c_[xx.ravel(), yy.ravel()])\n",
        "Z = Z.reshape(xx.shape)\n",
        "\n",
        "plt.contourf(xx, yy, Z, alpha=0.8)\n",
        "plt.scatter(X[:, 0], X[:, 1], c=y, edgecolors='k', marker='o')\n",
        "plt.title(\"SVM with Polynomial Kernel Decision Boundary\")\n",
        "plt.xlabel(\"Feature 1\")\n",
        "plt.ylabel(\"Feature 2\")\n",
        "plt.show()"
      ],
      "execution_count": null,
      "outputs": [
        {
          "output_type": "display_data",
          "data": {
            "text/plain": [
              "<Figure size 640x480 with 1 Axes>"
            ],
            "image/png": "[encoded data removed]"
          },
          "metadata": {}
        }
      ]
    },
    {
      "cell_type": "code",
      "source": [
        "#25.Write a Python program to train a Gaussian Naïve Bayes classifier on the Breast Cancer dataset and evaluate accuracy.\n",
        "from sklearn.datasets import load_breast_cancer\n",
        "from sklearn.model_selection import train_test_split\n",
        "from sklearn.naive_bayes import GaussianNB\n",
        "from sklearn.metrics import accuracy_score, classification_report\n",
        "\n",
        "# Load the Breast Cancer dataset\n",
        "breast_cancer = load_breast_cancer()\n",
        "X, y = breast_cancer.data, breast_cancer.target\n",
        "\n",
        "# Split the dataset into training and testing sets\n",
        "X_train, X_test, y_train, y_test = train_test_split(X, y, test_size=0.2, random_state=42)\n",
        "\n",
        "# Train a Gaussian Naïve Bayes classifier\n",
        "gnb = GaussianNB()\n",
        "gnb.fit(X_train, y_train)\n",
        "\n",
        "# Make predictions\n",
        "y_pred = gnb.predict(X_test)\n",
        "\n",
        "# Evaluate the accuracy\n",
        "accuracy = accuracy_score(y_test, y_pred)\n",
        "print(f\"Accuracy: {accuracy:.2f}\")\n",
        "\n",
        "# Print classification report for more detailed evaluation\n",
        "print(\"Classification Report:\")\n",
        "print(classification_report(y_test, y_pred))"
      ],
      "metadata": {
        "id": "aESKqq5hJrGq"
      },
      "execution_count": null,
      "outputs": []
    },
    {
      "cell_type": "code",
      "metadata": {
        "colab": {
          "base_uri": "https://localhost:8080/"
        },
        "id": "c35362ef",
        "outputId": "973984d1-f3ac-4db5-b74e-92671714bc42"
      },
      "source": [
        "#26.Write a Python program to train a Multinomial Naïve Bayes classifier for text classification using the 20 Newsgroups dataset.\n",
        "from sklearn.datasets import fetch_20newsgroups\n",
        "from sklearn.model_selection import train_test_split\n",
        "from sklearn.feature_extraction.text import TfidfVectorizer\n",
        "from sklearn.naive_bayes import MultinomialNB\n",
        "from sklearn.metrics import accuracy_score, classification_report\n",
        "\n",
        "# Load the 20 Newsgroups dataset\n",
        "newsgroups_train = fetch_20newsgroups(subset='train', remove=('headers', 'footers', 'quotes'))\n",
        "newsgroups_test = fetch_20newsgroups(subset='test', remove=('headers', 'footers', 'quotes'))\n",
        "\n",
        "X_train, y_train = newsgroups_train.data, newsgroups_train.target\n",
        "X_test, y_test = newsgroups_test.data, newsgroups_test.target\n",
        "\n",
        "# Convert text data to TF-IDF features\n",
        "vectorizer = TfidfVectorizer()\n",
        "X_train_tfidf = vectorizer.fit_transform(X_train)\n",
        "X_test_tfidf = vectorizer.transform(X_test)\n",
        "\n",
        "# Train a Multinomial Naïve Bayes classifier\n",
        "mnb = MultinomialNB()\n",
        "mnb.fit(X_train_tfidf, y_train)\n",
        "\n",
        "# Make predictions\n",
        "y_pred = mnb.predict(X_test_tfidf)\n",
        "\n",
        "# Evaluate the accuracy\n",
        "accuracy = accuracy_score(y_test, y_pred)\n",
        "print(f\"Accuracy: {accuracy:.2f}\")\n",
        "\n",
        "# Print classification report for more detailed evaluation\n",
        "print(\"Classification Report:\")\n",
        "print(classification_report(y_test, y_pred, target_names=newsgroups_test.target_names))"
      ],
      "execution_count": null,
      "outputs": [
        {
          "output_type": "stream",
          "name": "stdout",
          "text": [
            "Accuracy: 0.61\n",
            "Classification Report:\n",
            "                          precision    recall  f1-score   support\n",
            "\n",
            "             alt.atheism       0.81      0.07      0.13       319\n",
            "           comp.graphics       0.72      0.62      0.67       389\n",
            " comp.os.ms-windows.misc       0.70      0.50      0.59       394\n",
            "comp.sys.ibm.pc.hardware       0.55      0.75      0.64       392\n",
            "   comp.sys.mac.hardware       0.81      0.61      0.69       385\n",
            "          comp.windows.x       0.83      0.74      0.78       395\n",
            "            misc.forsale       0.86      0.69      0.77       390\n",
            "               rec.autos       0.82      0.68      0.74       396\n",
            "         rec.motorcycles       0.89      0.63      0.73       398\n",
            "      rec.sport.baseball       0.95      0.69      0.80       397\n",
            "        rec.sport.hockey       0.59      0.90      0.71       399\n",
            "               sci.crypt       0.47      0.80      0.59       396\n",
            "         sci.electronics       0.77      0.43      0.55       393\n",
            "                 sci.med       0.86      0.63      0.73       396\n",
            "               sci.space       0.84      0.63      0.72       394\n",
            "  soc.religion.christian       0.22      0.95      0.36       398\n",
            "      talk.politics.guns       0.59      0.59      0.59       364\n",
            "   talk.politics.mideast       0.85      0.70      0.77       376\n",
            "      talk.politics.misc       0.81      0.08      0.15       310\n",
            "      talk.religion.misc       0.50      0.00      0.01       251\n",
            "\n",
            "                accuracy                           0.61      7532\n",
            "               macro avg       0.72      0.58      0.59      7532\n",
            "            weighted avg       0.72      0.61      0.61      7532\n",
            "\n"
          ]
        }
      ]
    },
    {
      "cell_type": "code",
      "source": [
        "#27.Write a Python program to train an SVM Classifier with different C values and compare the decision boundaries visually.\n",
        "import numpy as np\n",
        "import matplotlib.pyplot as plt\n",
        "from sklearn import svm, datasets\n",
        "from sklearn.model_selection import train_test_split\n",
        "\n",
        "# Load dataset (2 features for easy visualization)\n",
        "iris = datasets.load_iris()\n",
        "X = iris.data[:, :2]  # Use only the first two features\n",
        "y = iris.target\n",
        "\n",
        "# Only take the first two classes for binary classification\n",
        "X = X[y != 2]\n",
        "y = y[y != 2]\n",
        "\n",
        "# Split into training and testing\n",
        "X_train, X_test, y_train, y_test = train_test_split(X, y, test_size=0.3, random_state=42)\n",
        "\n",
        "# Create a mesh to plot in\n",
        "h = .02  # step size in the mesh\n",
        "x_min, x_max = X[:, 0].min() - 1, X[:, 0].max() + 1\n",
        "y_min, y_max = X[:, 1].min() - 1, X[:, 1].max() + 1\n",
        "xx, yy = np.meshgrid(np.arange(x_min, x_max, h),\n",
        "                     np.arange(y_min, y_max, h))\n",
        "\n",
        "# Try different C values\n",
        "C_values = [0.01, 0.1, 1, 10, 100]\n",
        "plt.figure(figsize=(15, 10))\n",
        "\n",
        "for i, C in enumerate(C_values, 1):\n",
        "    clf = svm.SVC(kernel='linear', C=C)\n",
        "    clf.fit(X_train, y_train)\n",
        "\n",
        "    # Plot decision boundary\n",
        "    Z = clf.predict(np.c_[xx.ravel(), yy.ravel()])\n",
        "    Z = Z.reshape(xx.shape)\n",
        "\n",
        "    plt.subplot(2, 3, i)\n",
        "    plt.contourf(xx, yy, Z, cmap=plt.cm.coolwarm, alpha=0.8)\n",
        "    plt.scatter(X_train[:, 0], X_train[:, 1], c=y_train, cmap=plt.cm.coolwarm, edgecolors='k')\n",
        "    plt.xlabel('Sepal length')\n",
        "    plt.ylabel('Sepal width')\n",
        "    plt.title(f\"SVM with C={C}\")\n",
        "\n",
        "plt.tight_layout()\n",
        "plt.show()\n"
      ],
      "metadata": {
        "colab": {
          "base_uri": "https://localhost:8080/",
          "height": 755
        },
        "id": "JdKjaP1zLBHE",
        "outputId": "42c056cf-b8f9-47b3-ff6e-61622a231f6f"
      },
      "execution_count": null,
      "outputs": [
        {
          "output_type": "display_data",
          "data": {
            "text/plain": [
              "<Figure size 1500x1000 with 5 Axes>"
            ],
            "image/png": "[encoded data removed]"
          },
          "metadata": {}
        }
      ]
    },
    {
      "cell_type": "code",
      "source": [
        "#28.Write a Python program to train a Bernoulli Naïve Bayes classifier for binary classification on a dataset with binary features.\n",
        "from sklearn.naive_bayes import BernoulliNB\n",
        "from sklearn.datasets import make_classification\n",
        "from sklearn.model_selection import train_test_split\n",
        "from sklearn.metrics import accuracy_score\n",
        "# Create binary dataset\n",
        "X, y = make_classification(n_samples=1000, n_features=20, n_informative=15,\n",
        "n_redundant=2, n_classes=2, random_state=42)\n",
        "X = (X > 0).astype(int)\t# Convert to binary features\n",
        "# Split data\n",
        "X_train, X_test, y_train, y_test = train_test_split(X, y, test_size=0.3,␣\n",
        "𝗌random_state=42)\n",
        "# Train BernoulliNB\n",
        "bnb = BernoulliNB() bnb.fit(X_train, y_train)\n",
        "\n",
        "# Evaluate\n",
        "y_pred = bnb.predict(X_test)\n",
        "print(f\"Accuracy:  {accuracy_score(y_test,  y_pred):.4f}\")\n"
      ],
      "metadata": {
        "id": "OWOX1jadNkZD"
      },
      "execution_count": null,
      "outputs": []
    },
    {
      "cell_type": "code",
      "source": [
        "#29.Write a Python program to apply feature scaling before training an SVM model and compare results with unscaled data.\n",
        "from  sklearn.svm  import  SVC\n",
        "from sklearn.preprocessing import StandardScaler\n",
        "from  sklearn.metrics  import  accuracy_score\n",
        "from sklearn import datasets\n",
        "# Using iris dataset\n",
        "iris = datasets.load_iris()\n",
        "X = iris.data\n",
        "y = iris.target\n",
        "from sklearn.model_selection import train_test_split\n",
        "X_train, X_test, y_train, y_test = train_test_split(X, y, test_size=0.3,random_state=42)\n",
        "# Without scaling\n",
        "svm_unscaled = SVC(kernel='rbf')\n",
        "svm_unscaled.fit(X_train, y_train)\n",
        "y_pred_unscaled = svm_unscaled.predict(X_test)\n",
        "acc_unscaled = accuracy_score(y_test, y_pred_unscaled)\n",
        "# With scaling\n",
        "scaler = StandardScaler()\n",
        "X_train_scaled = scaler.fit_transform(X_train)\n",
        "X_test_scaled = scaler.transform(X_test)\n",
        "svm_scaled = SVC(kernel='rbf')\n",
        "svm_scaled.fit(X_train_scaled,  y_train)\n",
        "y_pred_scaled = svm_scaled.predict(X_test_scaled)\n",
        "acc_scaled = accuracy_score(y_test, y_pred_scaled)\n",
        "print(f\"Accuracy without scaling: {acc_unscaled:.4f}\")\n",
        "print(f\"Accuracy with scaling: {acc_scaled:.4f}\")\n"
      ],
      "metadata": {
        "colab": {
          "base_uri": "https://localhost:8080/"
        },
        "id": "eJek3PKXNywW",
        "outputId": "c97b5eb2-7607-4f03-b3d1-77a2e1981f9f"
      },
      "execution_count": null,
      "outputs": [
        {
          "output_type": "stream",
          "name": "stdout",
          "text": [
            "Accuracy without scaling: 1.0000\n",
            "Accuracy with scaling: 1.0000\n"
          ]
        }
      ]
    },
    {
      "cell_type": "code",
      "metadata": {
        "colab": {
          "base_uri": "https://localhost:8080/"
        },
        "id": "57173056",
        "outputId": "8aef4d87-3b81-452d-c8c7-788acd3ef508"
      },
      "source": [
        "#30.Write a Python program to train a Gaussian Naïve Bayes model and compare the predictions before and after Laplace Smoothing\n",
        "from  sklearn.naive_bayes  import  GaussianNB\n",
        "from  sklearn.datasets  import  load_breast_cancer\n",
        "from  sklearn.metrics  import  accuracy_score\n",
        "from sklearn.model_selection import train_test_split\n",
        "data = load_breast_cancer()\n",
        "X, y = data.data, data.target\n",
        "X_train, X_test, y_train, y_test = train_test_split(X, y, test_size=0.3,random_state=42)\n",
        "# Without smoothing (var_smoothing=0)\n",
        "gnb = GaussianNB(var_smoothing=0)\n",
        "gnb.fit(X_train,  y_train)\n",
        "y_pred = gnb.predict(X_test)\n",
        "acc_no_smooth = accuracy_score(y_test, y_pred)\n",
        "# With smoothing (default var_smoothing=1e-9)\n",
        "gnb_smooth = GaussianNB()\n",
        "gnb_smooth.fit(X_train, y_train)\n",
        "y_pred_smooth = gnb_smooth.predict(X_test)\n",
        "acc_smooth = accuracy_score(y_test, y_pred_smooth)\n",
        "print(f\"Accuracy without smoothing: {acc_no_smooth:.4f}\")\n",
        "print(f\"Accuracy with smoothing: {acc_smooth:.4f}\")\n"
      ],
      "execution_count": null,
      "outputs": [
        {
          "output_type": "stream",
          "name": "stdout",
          "text": [
            "Accuracy without smoothing: 0.9357\n",
            "Accuracy with smoothing: 0.9415\n"
          ]
        }
      ]
    },
    {
      "cell_type": "code",
      "source": [
        "#31.Write a Python program to train an SVM Classifier and use Grid- SearchCV to tune the hyperparameters (C, gamma, kernel)\n",
        "from sklearn.svm import SVC\n",
        "from sklearn.datasets import make_classification\n",
        "from sklearn.model_selection import train_test_split\n",
        "from sklearn.metrics import classification_report\n",
        "import numpy as np\n",
        "\n",
        "# Create a synthetic imbalanced dataset\n",
        "# create a dataset with 1000 samples, 90% in class 0 and 10% in class 1\n",
        "X, y = make_classification(n_samples=1000, n_features=20, n_informative=15,\n",
        "                           n_redundant=2, n_classes=2, weights=[0.9, 0.1],\n",
        "                           random_state=42)\n",
        "\n",
        "# Split the data into training and testing sets\n",
        "X_train, X_test, y_train, y_test = train_test_split(X, y, test_size=0.3, random_state=42)\n",
        "\n",
        "# Print the distribution of classes in the training set\n",
        "unique, counts = np.unique(y_train, return_counts=True)\n",
        "print(\"Class distribution in training set:\")\n",
        "for u, c in zip(unique, counts):\n",
        "    print(f\"Class {u}: {c} samples\")\n",
        "\n",
        "# 2. Train an SVM without class weighting\n",
        "svm_no_weight = SVC(kernel='linear', random_state=42)\n",
        "svm_no_weight.fit(X_train, y_train)\n",
        "y_pred_no_weight = svm_no_weight.predict(X_test)\n",
        "\n",
        "print(\"\\nClassification Report without class weighting:\")\n",
        "print(classification_report(y_test, y_pred_no_weight))\n",
        "\n",
        "# 3. Train an SVM with class weighting\n",
        "# 'balanced' mode automatically adjusts weights inversely proportional to class frequencies\n",
        "svm_with_weight = SVC(kernel='linear', class_weight='balanced', random_state=42)\n",
        "svm_with_weight.fit(X_train, y_train)\n",
        "y_pred_with_weight = svm_with_weight.predict(X_test)\n",
        "\n",
        "print(\"\\nClassification Report with class weighting:\")\n",
        "print(classification_report(y_test, y_pred_with_weight))\n",
        "\n",
        "# 4. Compare the results\n",
        "print(\"\\nComparison:\")\n",
        "print(\"Without class weighting:\")\n",
        "print(classification_report(y_test, y_pred_no_weight))\n",
        "print(\"\\nWith class weighting:\")\n",
        "print(classification_report(y_test, y_pred_with_weight))\n",
        "\n"
      ],
      "metadata": {
        "colab": {
          "base_uri": "https://localhost:8080/"
        },
        "id": "-QMH2qmMXW3m",
        "outputId": "f38dd215-5262-41c9-b113-2fe2e5c280f0"
      },
      "execution_count": null,
      "outputs": [
        {
          "output_type": "stream",
          "name": "stdout",
          "text": [
            "Class distribution in training set:\n",
            "Class 0: 623 samples\n",
            "Class 1: 77 samples\n",
            "\n",
            "Classification Report without class weighting:\n",
            "              precision    recall  f1-score   support\n",
            "\n",
            "           0       0.95      0.98      0.96       276\n",
            "           1       0.62      0.42      0.50        24\n",
            "\n",
            "    accuracy                           0.93       300\n",
            "   macro avg       0.79      0.70      0.73       300\n",
            "weighted avg       0.92      0.93      0.93       300\n",
            "\n",
            "\n",
            "Classification Report with class weighting:\n",
            "              precision    recall  f1-score   support\n",
            "\n",
            "           0       0.97      0.77      0.86       276\n",
            "           1       0.22      0.75      0.34        24\n",
            "\n",
            "    accuracy                           0.77       300\n",
            "   macro avg       0.60      0.76      0.60       300\n",
            "weighted avg       0.91      0.77      0.82       300\n",
            "\n",
            "\n",
            "Comparison:\n",
            "Without class weighting:\n",
            "              precision    recall  f1-score   support\n",
            "\n",
            "           0       0.95      0.98      0.96       276\n",
            "           1       0.62      0.42      0.50        24\n",
            "\n",
            "    accuracy                           0.93       300\n",
            "   macro avg       0.79      0.70      0.73       300\n",
            "weighted avg       0.92      0.93      0.93       300\n",
            "\n",
            "\n",
            "With class weighting:\n",
            "              precision    recall  f1-score   support\n",
            "\n",
            "           0       0.97      0.77      0.86       276\n",
            "           1       0.22      0.75      0.34        24\n",
            "\n",
            "    accuracy                           0.77       300\n",
            "   macro avg       0.60      0.76      0.60       300\n",
            "weighted avg       0.91      0.77      0.82       300\n",
            "\n"
          ]
        }
      ]
    },
    {
      "cell_type": "code",
      "source": [
        "#32.Write a Python program to train an SVM Classifier on an imbalanced dataset and apply class weighting and check it improve accuracy.\n",
        "from sklearn.datasets import make_classification\n",
        "from  sklearn.svm  import  SVC\n",
        "# Create imbalanced dataset\n",
        "X, y = make_classification(n_samples=1000, n_features=20, weights=[0.9, 0.1],random_state=42)\n",
        "X_train, X_test, y_train, y_test = train_test_split(X, y, test_size=0.3,random_state=42)\n",
        "# Without class weight\n",
        "svm = SVC(kernel='linear')\n",
        "svm.fit(X_train, y_train)\n",
        "y_pred = svm.predict(X_test)\n",
        "acc = accuracy_score(y_test, y_pred)\n",
        "# With class weight\n",
        "svm_weighted = SVC(kernel='linear', class_weight='balanced')\n",
        "svm_weighted.fit(X_train, y_train)\n",
        "y_pred_weighted = svm_weighted.predict(X_test)\n",
        "acc_weighted = accuracy_score(y_test, y_pred_weighted)\n",
        "print(f\"Accuracy without weighting: {acc:.4f}\")\n",
        "print(f\"Accuracy with weighting: {acc_weighted:.4f}\")\n"
      ],
      "metadata": {
        "colab": {
          "base_uri": "https://localhost:8080/"
        },
        "id": "JoG15ZWIXglf",
        "outputId": "59622116-f5a7-4bcf-ed0a-ed572a755ec2"
      },
      "execution_count": null,
      "outputs": [
        {
          "output_type": "stream",
          "name": "stdout",
          "text": [
            "Accuracy without weighting: 0.9100\n",
            "Accuracy with weighting: 0.8467\n"
          ]
        }
      ]
    },
    {
      "cell_type": "code",
      "source": [
        "#33.Write a Python program to implement a Naïve Bayes classifier for spam detection using email data.\n",
        "from sklearn.feature_extraction.text import CountVectorizer\n",
        "from sklearn.naive_bayes import MultinomialNB\n",
        "from sklearn.model_selection import train_test_split\n",
        "from sklearn.metrics import accuracy_score, classification_report\n",
        "from  sklearn.feature_extraction.text  import  CountVectorizer\n",
        "from  sklearn.naive_bayes  import  MultinomialNB\n",
        "from sklearn.naive_bayes import BernoulliNB\n",
        "from sklearn.metrics import accuracy_score, classification_report\n",
        "import warnings\n",
        "warnings.filterwarnings('ignore')\n",
        "# Example data (in practice use real email data)\n",
        "emails = [\"win money now\", \"free lottery\", \"meeting reminder\", \"project update\"]\n",
        "labels = [1, 1, 0, 0]\t# 1=spam, 0=ham\n",
        "# Convert to binary features\n",
        "vectorizer = CountVectorizer(binary=True)\n",
        "X  =  vectorizer.fit_transform(emails)\n",
        "# Train-test split\n",
        "X_train, X_test, y_train, y_test = train_test_split(X, labels, test_size=0.25,random_state=42)\n",
        "# Train BernoulliNB\n",
        "bnb = BernoulliNB()\n",
        "bnb.fit(X_train, y_train)\n",
        "# Evaluate\n",
        "y_pred = bnb.predict(X_test)\n",
        "print(classification_report(y_test,  y_pred))\n"
      ],
      "metadata": {
        "colab": {
          "base_uri": "https://localhost:8080/"
        },
        "id": "Fsr8RiCfXgWP",
        "outputId": "baf97065-893c-4e89-e218-06a8fb44fd74"
      },
      "execution_count": null,
      "outputs": [
        {
          "output_type": "stream",
          "name": "stdout",
          "text": [
            "              precision    recall  f1-score   support\n",
            "\n",
            "           0       0.00      0.00      0.00       0.0\n",
            "           1       0.00      0.00      0.00       1.0\n",
            "\n",
            "    accuracy                           0.00       1.0\n",
            "   macro avg       0.00      0.00      0.00       1.0\n",
            "weighted avg       0.00      0.00      0.00       1.0\n",
            "\n"
          ]
        }
      ]
    },
    {
      "cell_type": "code",
      "metadata": {
        "colab": {
          "base_uri": "https://localhost:8080/"
        },
        "id": "14800712",
        "outputId": "e65e8f0e-e9ff-442c-a4d8-e432cf3f1aad"
      },
      "source": [
        "#34.Write a Python program to train an SVM Classifier and a Naïve Bayes Classifier on the same dataset and compare their accuracy.\n",
        "# Using breast cancer dataset\n",
        "from sklearn.naive_bayes import GaussianNB\n",
        "data = load_breast_cancer()\n",
        "X, y = data.data, data.target\n",
        "X_train, X_test, y_train, y_test = train_test_split(X, y, test_size=0.3,random_state=42)\n",
        "# Scale data\n",
        "scaler = StandardScaler()\n",
        "X_train_scaled = scaler.fit_transform(X_train)\n",
        "X_test_scaled = scaler.transform(X_test)\n",
        "# SVM\n",
        "svm = SVC(kernel='rbf')\n",
        "svm.fit(X_train_scaled,  y_train)\n",
        "svm_acc = svm.score(X_test_scaled, y_test)\n",
        "# Naïve Bayes\n",
        "gnb = GaussianNB()\n",
        "gnb.fit(X_train_scaled,y_train)\n",
        "gnb_acc = gnb.score(X_test_scaled, y_test)\n",
        "print(f\"SVM Accuracy: {svm_acc:.4f}\")\n",
        "print(f\"Naïve Bayes Accuracy: {gnb_acc:.4f}\")\n"
      ],
      "execution_count": null,
      "outputs": [
        {
          "output_type": "stream",
          "name": "stdout",
          "text": [
            "SVM Accuracy: 0.9766\n",
            "Naïve Bayes Accuracy: 0.9357\n"
          ]
        }
      ]
    },
    {
      "cell_type": "code",
      "source": [
        "#35.Write a Python program to perform feature selection before training a Naïve Bayes classifier and compare results.\n",
        "from sklearn.feature_selection import SelectKBest, chi2\n",
        "# Select top 10 features\n",
        "selector = SelectKBest(chi2, k=10)\n",
        "X_new = selector.fit_transform(X, y)\n",
        "# Train-test split\n",
        "from sklearn.model_selection import train_test_split\n",
        "X_train, X_test, y_train, y_test = train_test_split(X_new, y, test_size=0.3,random_state=42)\n",
        "# Train and compare\n",
        "gnb_all = GaussianNB().fit(X_train, y_train)\n",
        "acc_all = gnb_all.score(X_test, y_test)\n",
        "gnb_selected = GaussianNB().fit(X_train, y_train)\n",
        "acc_selected = gnb_selected.score(X_test, y_test)\n",
        "print(f\"Accuracy with all features: {acc_all:.4f}\")\n",
        "print(f\"Accuracy with selected features: {acc_selected:.4f}\")\n"
      ],
      "metadata": {
        "colab": {
          "base_uri": "https://localhost:8080/"
        },
        "id": "BSVJkSYKfddD",
        "outputId": "450fed5f-1e64-43fa-db59-d069d6c3792e"
      },
      "execution_count": null,
      "outputs": [
        {
          "output_type": "stream",
          "name": "stdout",
          "text": [
            "Accuracy with all features: 0.9532\n",
            "Accuracy with selected features: 0.9532\n"
          ]
        }
      ]
    },
    {
      "cell_type": "code",
      "source": [
        "#36.Write a Python program to train an SVM Classifier using One-vs- Rest (OvR) and One-vs-One (OvO) strategies on the Wine dataset and compare their accuracy.\n",
        "from sklearn.datasets import load_wine\n",
        "from  sklearn.multiclass  import  OneVsRestClassifier, OneVsOneClassifier\n",
        "data = load_wine()\n",
        "X, y = data.data, data.target\n",
        "X_train, X_test, y_train, y_test = train_test_split(X, y, test_size=0.3,random_state=42)\n",
        "# Scale data\n",
        "scaler = StandardScaler()\n",
        "X_train_scaled = scaler.fit_transform(X_train)\n",
        "X_test_scaled = scaler.transform(X_test)\n",
        "# OvR\n",
        "ovr = OneVsRestClassifier(SVC(kernel='rbf'))\n",
        "ovr.fit(X_train_scaled,   y_train)\n",
        "ovr_acc = ovr.score(X_test_scaled, y_test)\n",
        "# OvO\n",
        "ovo = OneVsOneClassifier(SVC(kernel='rbf'))\n",
        "ovo.fit(X_train_scaled,  y_train)\n",
        "ovo_acc = ovo.score(X_test_scaled, y_test)\n",
        "print(f\"OvR Accuracy: {ovr_acc:.4f}\")\n",
        "print(f\"OvO Accuracy: {ovo_acc:.4f}\")\n",
        "\n"
      ],
      "metadata": {
        "colab": {
          "base_uri": "https://localhost:8080/"
        },
        "id": "whNwMzuGgMEL",
        "outputId": "64ff90dc-8fdf-48c3-8c46-f148271127d6"
      },
      "execution_count": null,
      "outputs": [
        {
          "output_type": "stream",
          "name": "stdout",
          "text": [
            "OvR Accuracy: 0.9815\n",
            "OvO Accuracy: 0.9815\n"
          ]
        }
      ]
    },
    {
      "cell_type": "code",
      "source": [
        "#37.Write a Python program to train an SVM Classifier using Linear, Polynomial, and RBF kernels on the Breast Cancer dataset and compare their accuracy.\n",
        "data = load_breast_cancer()\n",
        "X, y = data.data, data.target\n",
        "X_train, X_test, y_train, y_test = train_test_split(X, y, test_size=0.3,random_state=42)\n",
        "# Scale data\n",
        "scaler = StandardScaler()\n",
        "X_train_scaled = scaler.fit_transform(X_train)\n",
        "X_test_scaled = scaler.transform(X_test)\n",
        "kernels = ['linear', 'poly', 'rbf']\n",
        "for kernel in kernels:\n",
        "  svm = SVC(kernel=kernel)\n",
        "  svm.fit(X_train_scaled,  y_train)\n",
        "  acc = svm.score(X_test_scaled, y_test)\n",
        "  print(f\"{kernel} kernel accuracy: {acc:.4f}\")\n",
        "\n"
      ],
      "metadata": {
        "colab": {
          "base_uri": "https://localhost:8080/"
        },
        "id": "NqKnOWz5gtOP",
        "outputId": "42168951-a975-4bf0-b013-0795cae80a2f"
      },
      "execution_count": null,
      "outputs": [
        {
          "output_type": "stream",
          "name": "stdout",
          "text": [
            "linear kernel accuracy: 0.9766\n",
            "poly kernel accuracy: 0.8947\n",
            "rbf kernel accuracy: 0.9766\n"
          ]
        }
      ]
    },
    {
      "cell_type": "code",
      "source": [
        "#38.Write a Python program to train an SVM Classifier using Stratified K-Fold Cross-Validation and compute the average accuracy.\n",
        "from sklearn.model_selection import StratifiedKFold, cross_val_score\n",
        "svm  =  SVC(kernel='rbf')\n",
        "skf = StratifiedKFold(n_splits=5)\n",
        "scores = cross_val_score(svm, X_train_scaled, y_train, cv=skf)\n",
        "print(f\"Average  accuracy:  {scores.mean():.4f}  (±{scores.std():.4f})\")\n"
      ],
      "metadata": {
        "colab": {
          "base_uri": "https://localhost:8080/"
        },
        "id": "GnAB1qAdhMwi",
        "outputId": "2207d494-1896-4520-c6c1-f4e9c98ef917"
      },
      "execution_count": null,
      "outputs": [
        {
          "output_type": "stream",
          "name": "stdout",
          "text": [
            "Average  accuracy:  0.9673  (±0.0172)\n"
          ]
        }
      ]
    },
    {
      "cell_type": "code",
      "source": [
        "#39.Write a Python program to train a Naïve Bayes classifier using different prior probabilities and compare performance.\n",
        "priors = [None, [0.6, 0.4], [0.5, 0.5], [0.3, 0.7]]\n",
        "for prior in priors:\n",
        "  gnb = GaussianNB(priors=prior)\n",
        "  gnb.fit(X_train,  y_train)\n",
        "  acc = gnb.score(X_test, y_test)\n",
        "  print(f\"Accuracy with prior {prior}: {acc:.4f}\")\n"
      ],
      "metadata": {
        "colab": {
          "base_uri": "https://localhost:8080/"
        },
        "id": "LkI15iB2h-n_",
        "outputId": "037ecfe7-110e-47b9-8c99-9e1a91ce937c"
      },
      "execution_count": null,
      "outputs": [
        {
          "output_type": "stream",
          "name": "stdout",
          "text": [
            "Accuracy with prior None: 0.9415\n",
            "Accuracy with prior [0.6, 0.4]: 0.9357\n",
            "Accuracy with prior [0.5, 0.5]: 0.9415\n",
            "Accuracy with prior [0.3, 0.7]: 0.9474\n"
          ]
        }
      ]
    },
    {
      "cell_type": "code",
      "source": [
        "#40.Write a Python program to perform Recursive Feature Elimination (RFE) before training an SVM Classifier and compare accuracy.\n",
        "from  sklearn.feature_selection  import  RFE\n",
        "svm  =  SVC(kernel='linear')\n",
        "rfe = RFE(estimator=svm, n_features_to_select=10)\n",
        "X_rfe  =  rfe.fit_transform(X_train,  y_train)\n",
        "svm.fit(X_rfe, y_train)\n",
        "X_test_rfe = rfe.transform(X_test)\n",
        "acc_rfe = svm.score(X_test_rfe, y_test)\n",
        "print(f\"Accuracy with RFE: {acc_rfe:.4f}\")\n"
      ],
      "metadata": {
        "colab": {
          "base_uri": "https://localhost:8080/"
        },
        "id": "YcJLUEoPjwFO",
        "outputId": "e4534035-1979-4bbf-9a92-31969710e0ec"
      },
      "execution_count": null,
      "outputs": [
        {
          "output_type": "stream",
          "name": "stdout",
          "text": [
            "Accuracy with RFE: 0.9298\n"
          ]
        }
      ]
    },
    {
      "cell_type": "code",
      "source": [
        "#41.Write a Python program to train an SVM Classifier and evaluate its performance using Precision, Recall, and F1-Score instead of accuracy.\n",
        "from sklearn.metrics import precision_score, recall_score, f1_score\n",
        "# If you already have a fitted SelectKBest:\n",
        "selector = SelectKBest(chi2, k=10).fit(X_train, y_train)\n",
        "X_train_selected = selector.transform(X_train)\n",
        "X_test_selected = selector.transform(X_test)\t# CRITICAL: use same selector\n",
        "svm = SVC().fit(X_train_selected, y_train)\n",
        "y_pred = svm.predict(X_test_selected)\n",
        "print(f\"Precision: {precision_score(y_test, y_pred):.4f}\")\n",
        "print(f\"Recall: {recall_score(y_test, y_pred):.4f}\")\n",
        "print(f\"F1 Score: {f1_score(y_test, y_pred):.4f}\")\n"
      ],
      "metadata": {
        "colab": {
          "base_uri": "https://localhost:8080/"
        },
        "id": "pOMyLsCMknie",
        "outputId": "79c09b1d-58f4-4d17-b1e2-36d5247c2379"
      },
      "execution_count": null,
      "outputs": [
        {
          "output_type": "stream",
          "name": "stdout",
          "text": [
            "Precision: 0.9224\n",
            "Recall: 0.9907\n",
            "F1 Score: 0.9554\n"
          ]
        }
      ]
    },
    {
      "cell_type": "code",
      "source": [
        "#42.Write a Python program to train a Naïve Bayes Classifier and evaluate its performance using Log Loss (Cross-Entropy Loss).\n",
        "from sklearn.metrics import log_loss\n",
        "y_pred_proba = gnb.predict_proba(X_test)\n",
        "print(f\"Log Loss: {log_loss(y_test, y_pred_proba):.4f}\")\n"
      ],
      "metadata": {
        "id": "b8aQ3yF0leSI"
      },
      "execution_count": null,
      "outputs": []
    },
    {
      "cell_type": "code",
      "source": [
        "#43.Write a Python program to train an SVM Classifier and visualize the Confusion Matrix using seaborn.\n",
        "import seaborn as sns\n",
        "from  sklearn.metrics  import  confusion_matrix\n",
        "import matplotlib.pyplot as plt\n",
        "cm = confusion_matrix(y_test, y_pred)\n",
        "sns.heatmap(cm, annot=True, fmt='d')\n",
        "plt.xlabel('Predicted')\n",
        "plt.ylabel('Actual')\n",
        "plt.show()\n"
      ],
      "metadata": {
        "colab": {
          "base_uri": "https://localhost:8080/",
          "height": 449
        },
        "id": "LEJBwR-EluWs",
        "outputId": "da809f66-6f31-442f-af54-1865c8a58c4d"
      },
      "execution_count": null,
      "outputs": [
        {
          "output_type": "display_data",
          "data": {
            "text/plain": [
              "<Figure size 640x480 with 2 Axes>"
            ],
            "image/png": "[encoded data removed]"
          },
          "metadata": {}
        }
      ]
    },
    {
      "cell_type": "code",
      "source": [
        "#44.Write a Python program to train an SVM Regressor (SVR) and evaluate its performance using Mean Absolute Error (MAE) instead of MSE.\n",
        "from sklearn.svm import SVR\n",
        "from  sklearn.metrics  import  mean_absolute_error\n",
        "from sklearn.datasets import fetch_california_housing\n",
        "from sklearn.model_selection import train_test_split\n",
        "from sklearn.preprocessing import StandardScaler\n",
        "from  sklearn.pipeline  import  make_pipeline\n",
        "# Load California housing dataset\n",
        "housing = fetch_california_housing()\n",
        "X, y = housing.data, housing.target\n",
        "X_train, X_test, y_train, y_test = train_test_split(X, y, test_size=0.3,random_state=5)\n",
        "\n",
        "svr = SVR()\n",
        "svr.fit(X_train, y_train)\n",
        "y_pred = svr.predict(X_test)\n",
        "print(f\"MAE:  {mean_absolute_error(y_test,  y_pred):.4f}\")\n"
      ],
      "metadata": {
        "colab": {
          "base_uri": "https://localhost:8080/"
        },
        "id": "WiibmggVmAht",
        "outputId": "87fd2f91-d99b-4c8b-ef39-e3393d68ea53"
      },
      "execution_count": null,
      "outputs": [
        {
          "output_type": "stream",
          "name": "stdout",
          "text": [
            "MAE:  0.8842\n"
          ]
        }
      ]
    },
    {
      "cell_type": "code",
      "source": [
        "#45.Write a Python program to train a Naïve Bayes classifier and evaluate its performance using the ROC-AUC score.\n",
        "import numpy as np\n",
        "from sklearn.datasets import load_breast_cancer\n",
        "from sklearn.model_selection import train_test_split\n",
        "from sklearn.naive_bayes import GaussianNB\n",
        "from sklearn.metrics import roc_auc_score, roc_curve\n",
        "import matplotlib.pyplot as plt\n",
        "\n",
        "# Load dataset\n",
        "data = load_breast_cancer()\n",
        "X = data.data\n",
        "y = data.target\n",
        "\n",
        "# Split dataset\n",
        "X_train, X_test, y_train, y_test = train_test_split(X, y, test_size=0.3, random_state=42)\n",
        "\n",
        "# Train Naive Bayes classifier\n",
        "nb = GaussianNB()\n",
        "nb.fit(X_train, y_train)\n",
        "\n",
        "# Predict probabilities\n",
        "y_probs = nb.predict_proba(X_test)[:, 1]\n",
        "\n",
        "# Calculate ROC-AUC\n",
        "roc_auc = roc_auc_score(y_test, y_probs)\n",
        "print(f\"ROC-AUC Score: {roc_auc:.4f}\")\n"
      ],
      "metadata": {
        "colab": {
          "base_uri": "https://localhost:8080/"
        },
        "id": "0RrW6WzdmkJZ",
        "outputId": "52a5f459-62ee-4e76-bccd-d2f68b7a076e"
      },
      "execution_count": null,
      "outputs": [
        {
          "output_type": "stream",
          "name": "stdout",
          "text": [
            "ROC-AUC Score: 0.9922\n"
          ]
        }
      ]
    },
    {
      "cell_type": "code",
      "source": [
        "#46.Write a Python program to train an SVM Classifier and visualize the Precision-Recall Curve.\n",
        "from sklearn.metrics import precision_recall_curve\n",
        "import matplotlib.pyplot as plt\n",
        "from sklearn.svm import SVC\n",
        "from sklearn.datasets import load_breast_cancer\n",
        "from sklearn.model_selection import train_test_split\n",
        "from sklearn.preprocessing import StandardScaler\n",
        "\n",
        "# Load dataset\n",
        "data = load_breast_cancer()\n",
        "X = data.data\n",
        "y = data.target\n",
        "\n",
        "# Split dataset\n",
        "X_train, X_test, y_train, y_test = train_test_split(X, y, test_size=0.3, random_state=42)\n",
        "\n",
        "# Scale data\n",
        "scaler = StandardScaler()\n",
        "X_train_scaled = scaler.fit_transform(X_train)\n",
        "X_test_scaled = scaler.transform(X_test)\n",
        "\n",
        "# Train SVM\n",
        "svm = SVC(probability=True) # Set probability=True to use predict_proba, or use decision_function\n",
        "svm.fit(X_train_scaled, y_train)\n",
        "\n",
        "# Get the decision function scores for the positive class\n",
        "# Use decision_function for SVC, or predict_proba[:, 1] if probability=True\n",
        "y_score = svm.decision_function(X_test_scaled)\n",
        "\n",
        "# Calculate precision and recall\n",
        "precision, recall, _ = precision_recall_curve(y_test, y_score)\n",
        "\n",
        "# Plot the Precision-Recall curve\n",
        "plt.plot(recall, precision)\n",
        "plt.xlabel('Recall')\n",
        "plt.ylabel('Precision')\n",
        "plt.title('Precision-Recall Curve')\n",
        "plt.show()"
      ],
      "metadata": {
        "colab": {
          "base_uri": "https://localhost:8080/",
          "height": 472
        },
        "id": "kVCoM9hPorRn",
        "outputId": "dafa5f1f-5221-4d6b-c5e3-c07fffba34ab"
      },
      "execution_count": null,
      "outputs": [
        {
          "output_type": "display_data",
          "data": {
            "text/plain": [
              "<Figure size 640x480 with 1 Axes>"
            ],
            "image/png": "[encoded data removed]"
          },
          "metadata": {}
        }
      ]
    },
    {
      "cell_type": "markdown",
      "source": [
        "#The End"
      ],
      "metadata": {
        "id": "jc9bIA_jqBQH"
      }
    }
  ]
}